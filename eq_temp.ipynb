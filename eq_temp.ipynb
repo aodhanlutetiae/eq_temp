{
 "cells": [
  {
   "cell_type": "markdown",
   "metadata": {},
   "source": [
    "## Equal Temperament calculator"
   ]
  },
  {
   "cell_type": "code",
   "execution_count": 10,
   "metadata": {},
   "outputs": [],
   "source": [
    "from ipywidgets import interact"
   ]
  },
  {
   "cell_type": "code",
   "execution_count": 11,
   "metadata": {},
   "outputs": [],
   "source": [
    "\n",
    "def allnotes(startnumb):\n",
    "    \n",
    "    musranking = [\"1\", \"b2\", \"2\", \"b3\", \"3\", \"4\", \"b5\", \"5\", \"b6\", \"6\", \"b7\", \"7\", \"8\"]\n",
    "    freq_list = []\n",
    "    \n",
    "    exp = 1\n",
    "    while exp <13 :\n",
    "        fac = ((2 ** (1. / 12)) ** exp)        \n",
    "        this_freq = (int(startnumb) * fac)\n",
    "        rd_freq = round(this_freq, )\n",
    "        freq_list.append (rd_freq)\n",
    "        exp = exp + 1\n",
    "    \n",
    "    return freq_list"
   ]
  },
  {
   "cell_type": "code",
   "execution_count": 12,
   "metadata": {},
   "outputs": [
    {
     "data": {
      "application/vnd.jupyter.widget-view+json": {
       "model_id": "54b71d8c8bb540359313a19b807a0b4e",
       "version_major": 2,
       "version_minor": 0
      },
      "text/plain": [
       "interactive(children=(IntSlider(value=440, description='startnumb', max=1320, min=-440), Output()), _dom_class…"
      ]
     },
     "metadata": {},
     "output_type": "display_data"
    },
    {
     "data": {
      "text/plain": [
       "<function __main__.allnotes(startnumb)>"
      ]
     },
     "execution_count": 12,
     "metadata": {},
     "output_type": "execute_result"
    }
   ],
   "source": [
    "interact(allnotes, startnumb = 440)"
   ]
  },
  {
   "cell_type": "code",
   "execution_count": 5,
   "metadata": {},
   "outputs": [],
   "source": [
    "# This is the same function but allows for 2 decimal points in the results. Also called by the Anvil app\n",
    "\n",
    "def allnotes_dec(startnumb_dec):\n",
    "    \n",
    "    musranking = [\"1\", \"b2\", \"2\", \"b3\", \"3\", \"4\", \"b5\", \"5\", \"b6\", \"6\", \"b7\", \"7\", \"8\"]\n",
    "    freq_list_dec = []\n",
    "    \n",
    "    exp = 1\n",
    "    while exp <13 :\n",
    "        fac = ((2 ** (1. / 12)) ** exp)        \n",
    "        this_freq_dec = (int(startnumb_dec) * fac)\n",
    "        rd_freq2 = round(this_freq_dec, 2)\n",
    "        freq_list_dec.append (rd_freq2)\n",
    "        exp = exp + 1\n",
    "    \n",
    "    return freq_list_dec"
   ]
  },
  {
   "cell_type": "code",
   "execution_count": 14,
   "metadata": {},
   "outputs": [
    {
     "data": {
      "application/vnd.jupyter.widget-view+json": {
       "model_id": "7511ca38c4514d649a4001f1441a80ee",
       "version_major": 2,
       "version_minor": 0
      },
      "text/plain": [
       "interactive(children=(IntSlider(value=440, description='startnumb_dec', max=1320, min=-440), Output()), _dom_c…"
      ]
     },
     "metadata": {},
     "output_type": "display_data"
    },
    {
     "data": {
      "text/plain": [
       "<function __main__.allnotes_dec(startnumb_dec)>"
      ]
     },
     "execution_count": 14,
     "metadata": {},
     "output_type": "execute_result"
    }
   ],
   "source": [
    "interact(allnotes_dec, startnumb_dec = 440)"
   ]
  },
  {
   "cell_type": "code",
   "execution_count": null,
   "metadata": {},
   "outputs": [],
   "source": []
  }
 ],
 "metadata": {
  "kernelspec": {
   "display_name": "Python 3",
   "language": "python",
   "name": "python3"
  },
  "language_info": {
   "codemirror_mode": {
    "name": "ipython",
    "version": 3
   },
   "file_extension": ".py",
   "mimetype": "text/x-python",
   "name": "python",
   "nbconvert_exporter": "python",
   "pygments_lexer": "ipython3",
   "version": "3.7.3"
  }
 },
 "nbformat": 4,
 "nbformat_minor": 2
}
